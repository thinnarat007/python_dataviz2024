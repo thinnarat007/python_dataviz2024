{
  "nbformat": 4,
  "nbformat_minor": 0,
  "metadata": {
    "colab": {
      "provenance": [],
      "authorship_tag": "ABX9TyNXEe0Y0WVkHCIIJeAsPhvR",
      "include_colab_link": true
    },
    "kernelspec": {
      "name": "python3",
      "display_name": "Python 3"
    },
    "language_info": {
      "name": "python"
    }
  },
  "cells": [
    {
      "cell_type": "markdown",
      "metadata": {
        "id": "view-in-github",
        "colab_type": "text"
      },
      "source": [
        "<a href=\"https://colab.research.google.com/github/thinnarat007/python_dataviz2024/blob/main/My_first_python_.ipynb\" target=\"_parent\"><img src=\"https://colab.research.google.com/assets/colab-badge.svg\" alt=\"Open In Colab\"/></a>"
      ]
    },
    {
      "cell_type": "code",
      "source": [
        "print ('Tinn')"
      ],
      "metadata": {
        "colab": {
          "base_uri": "https://localhost:8080/"
        },
        "outputId": "f4f778ab-8e23-40f0-fb1c-ec8e7ac94fc4",
        "id": "W_VUuAd6S9Jl"
      },
      "execution_count": null,
      "outputs": [
        {
          "output_type": "stream",
          "name": "stdout",
          "text": [
            "Tinn\n"
          ]
        }
      ]
    },
    {
      "cell_type": "markdown",
      "source": [
        "Bcsic Programming for Data Science & Data Visualization\n",
        "here we use **Markdow**"
      ],
      "metadata": {
        "id": "6avb1eK1R6lH"
      }
    },
    {
      "cell_type": "code",
      "source": [
        "print ('Bank')"
      ],
      "metadata": {
        "colab": {
          "base_uri": "https://localhost:8080/"
        },
        "id": "T05V2ykNR6Kl",
        "outputId": "a2f8bb74-761a-4c9e-d942-92c6de81f2c8"
      },
      "execution_count": 3,
      "outputs": [
        {
          "output_type": "stream",
          "name": "stdout",
          "text": [
            "Bank\n"
          ]
        }
      ]
    }
  ]
}