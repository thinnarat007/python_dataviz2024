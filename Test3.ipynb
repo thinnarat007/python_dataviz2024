{
  "nbformat": 4,
  "nbformat_minor": 0,
  "metadata": {
    "colab": {
      "provenance": [],
      "authorship_tag": "ABX9TyOqQyu0mjieoNR4ydd/Hary",
      "include_colab_link": true
    },
    "kernelspec": {
      "name": "python3",
      "display_name": "Python 3"
    },
    "language_info": {
      "name": "python"
    }
  },
  "cells": [
    {
      "cell_type": "markdown",
      "metadata": {
        "id": "view-in-github",
        "colab_type": "text"
      },
      "source": [
        "<a href=\"https://colab.research.google.com/github/thinnarat007/python_dataviz2024/blob/main/Test3.ipynb\" target=\"_parent\"><img src=\"https://colab.research.google.com/assets/colab-badge.svg\" alt=\"Open In Colab\"/></a>"
      ]
    },
    {
      "cell_type": "code",
      "execution_count": 1,
      "metadata": {
        "id": "fQSb-clPVyog"
      },
      "outputs": [],
      "source": [
        "import pandas as pd"
      ]
    },
    {
      "cell_type": "code",
      "source": [
        "from google.colab import drive\n",
        "drive.mount('/content/drive')"
      ],
      "metadata": {
        "colab": {
          "base_uri": "https://localhost:8080/"
        },
        "id": "r9f6kpRqWEIE",
        "outputId": "07e5b1e6-c764-4212-b809-c844b185477c"
      },
      "execution_count": 2,
      "outputs": [
        {
          "output_type": "stream",
          "name": "stdout",
          "text": [
            "Mounted at /content/drive\n"
          ]
        }
      ]
    },
    {
      "cell_type": "code",
      "source": [
        "import os\n",
        "\n",
        "path = '/content/drive/MyDrive/Data_viz2024_Data/Test/test 3 '\n"
      ],
      "metadata": {
        "id": "Da86J78pXacY"
      },
      "execution_count": 6,
      "outputs": []
    },
    {
      "cell_type": "code",
      "source": [
        "Data_Docter= os.path.join(path,'Data_Docter_ศ.นพ.ชวลิต.csv')"
      ],
      "metadata": {
        "id": "rERhOjD8aaCk"
      },
      "execution_count": 7,
      "outputs": []
    },
    {
      "cell_type": "code",
      "source": [
        "Data_Docter_df = pd.read_csv(Data_Docter)\n",
        "Data_Docter_df.head()"
      ],
      "metadata": {
        "colab": {
          "base_uri": "https://localhost:8080/",
          "height": 427
        },
        "id": "FLJaoxtuakAT",
        "outputId": "5c98152b-2502-42ef-c6ae-2c80ad9d4f18"
      },
      "execution_count": 8,
      "outputs": [
        {
          "output_type": "execute_result",
          "data": {
            "text/plain": [
              "                                   name  \\\n",
              "0  ศ.นพ.ชวลิต ศูนย์มะเร็ง รพ.จุฬาลงกรณ์   \n",
              "1                        Nubeer Kithiya   \n",
              "2                       วาสนา คุ้มจิตต์   \n",
              "3                  Wansook Chompoo Ploy   \n",
              "4                           Aphit Aphit   \n",
              "\n",
              "                                            comments  ยอดไลค์  จำนวนการตอบกลับ  \n",
              "0  กดที่ลิงค์นี้เพื่อเข้าไปอ่านคอมเม้นของโพสต์ครั...      456                3  \n",
              "1  เป็นมะเร็งลำไส้ใหญ่ ระยะที่ 3 ตอนอายุ 26 ค่ะ พ...     1400               70  \n",
              "2  แม่เป็นมะเร็งขั้วปอด ลามขึ้นสมองค่ะ เริ่มแรกที...      402               11  \n",
              "3  #มะเร็งปากมดลูกระยะCINlll เกือบเข้าระยะ 1 ตอนอ...     1600               44  \n",
              "4  ลูกสาวเป็นมะเร็งกระดูก Osteosarcomaช่วงเข่า อา...      480                5  "
            ],
            "text/html": [
              "\n",
              "  <div id=\"df-6b84c3e2-3787-496e-a2d6-6405f4ad8caf\" class=\"colab-df-container\">\n",
              "    <div>\n",
              "<style scoped>\n",
              "    .dataframe tbody tr th:only-of-type {\n",
              "        vertical-align: middle;\n",
              "    }\n",
              "\n",
              "    .dataframe tbody tr th {\n",
              "        vertical-align: top;\n",
              "    }\n",
              "\n",
              "    .dataframe thead th {\n",
              "        text-align: right;\n",
              "    }\n",
              "</style>\n",
              "<table border=\"1\" class=\"dataframe\">\n",
              "  <thead>\n",
              "    <tr style=\"text-align: right;\">\n",
              "      <th></th>\n",
              "      <th>name</th>\n",
              "      <th>comments</th>\n",
              "      <th>ยอดไลค์</th>\n",
              "      <th>จำนวนการตอบกลับ</th>\n",
              "    </tr>\n",
              "  </thead>\n",
              "  <tbody>\n",
              "    <tr>\n",
              "      <th>0</th>\n",
              "      <td>ศ.นพ.ชวลิต ศูนย์มะเร็ง รพ.จุฬาลงกรณ์</td>\n",
              "      <td>กดที่ลิงค์นี้เพื่อเข้าไปอ่านคอมเม้นของโพสต์ครั...</td>\n",
              "      <td>456</td>\n",
              "      <td>3</td>\n",
              "    </tr>\n",
              "    <tr>\n",
              "      <th>1</th>\n",
              "      <td>Nubeer Kithiya</td>\n",
              "      <td>เป็นมะเร็งลำไส้ใหญ่ ระยะที่ 3 ตอนอายุ 26 ค่ะ พ...</td>\n",
              "      <td>1400</td>\n",
              "      <td>70</td>\n",
              "    </tr>\n",
              "    <tr>\n",
              "      <th>2</th>\n",
              "      <td>วาสนา คุ้มจิตต์</td>\n",
              "      <td>แม่เป็นมะเร็งขั้วปอด ลามขึ้นสมองค่ะ เริ่มแรกที...</td>\n",
              "      <td>402</td>\n",
              "      <td>11</td>\n",
              "    </tr>\n",
              "    <tr>\n",
              "      <th>3</th>\n",
              "      <td>Wansook Chompoo Ploy</td>\n",
              "      <td>#มะเร็งปากมดลูกระยะCINlll เกือบเข้าระยะ 1 ตอนอ...</td>\n",
              "      <td>1600</td>\n",
              "      <td>44</td>\n",
              "    </tr>\n",
              "    <tr>\n",
              "      <th>4</th>\n",
              "      <td>Aphit Aphit</td>\n",
              "      <td>ลูกสาวเป็นมะเร็งกระดูก Osteosarcomaช่วงเข่า อา...</td>\n",
              "      <td>480</td>\n",
              "      <td>5</td>\n",
              "    </tr>\n",
              "  </tbody>\n",
              "</table>\n",
              "</div>\n",
              "    <div class=\"colab-df-buttons\">\n",
              "\n",
              "  <div class=\"colab-df-container\">\n",
              "    <button class=\"colab-df-convert\" onclick=\"convertToInteractive('df-6b84c3e2-3787-496e-a2d6-6405f4ad8caf')\"\n",
              "            title=\"Convert this dataframe to an interactive table.\"\n",
              "            style=\"display:none;\">\n",
              "\n",
              "  <svg xmlns=\"http://www.w3.org/2000/svg\" height=\"24px\" viewBox=\"0 -960 960 960\">\n",
              "    <path d=\"M120-120v-720h720v720H120Zm60-500h600v-160H180v160Zm220 220h160v-160H400v160Zm0 220h160v-160H400v160ZM180-400h160v-160H180v160Zm440 0h160v-160H620v160ZM180-180h160v-160H180v160Zm440 0h160v-160H620v160Z\"/>\n",
              "  </svg>\n",
              "    </button>\n",
              "\n",
              "  <style>\n",
              "    .colab-df-container {\n",
              "      display:flex;\n",
              "      gap: 12px;\n",
              "    }\n",
              "\n",
              "    .colab-df-convert {\n",
              "      background-color: #E8F0FE;\n",
              "      border: none;\n",
              "      border-radius: 50%;\n",
              "      cursor: pointer;\n",
              "      display: none;\n",
              "      fill: #1967D2;\n",
              "      height: 32px;\n",
              "      padding: 0 0 0 0;\n",
              "      width: 32px;\n",
              "    }\n",
              "\n",
              "    .colab-df-convert:hover {\n",
              "      background-color: #E2EBFA;\n",
              "      box-shadow: 0px 1px 2px rgba(60, 64, 67, 0.3), 0px 1px 3px 1px rgba(60, 64, 67, 0.15);\n",
              "      fill: #174EA6;\n",
              "    }\n",
              "\n",
              "    .colab-df-buttons div {\n",
              "      margin-bottom: 4px;\n",
              "    }\n",
              "\n",
              "    [theme=dark] .colab-df-convert {\n",
              "      background-color: #3B4455;\n",
              "      fill: #D2E3FC;\n",
              "    }\n",
              "\n",
              "    [theme=dark] .colab-df-convert:hover {\n",
              "      background-color: #434B5C;\n",
              "      box-shadow: 0px 1px 3px 1px rgba(0, 0, 0, 0.15);\n",
              "      filter: drop-shadow(0px 1px 2px rgba(0, 0, 0, 0.3));\n",
              "      fill: #FFFFFF;\n",
              "    }\n",
              "  </style>\n",
              "\n",
              "    <script>\n",
              "      const buttonEl =\n",
              "        document.querySelector('#df-6b84c3e2-3787-496e-a2d6-6405f4ad8caf button.colab-df-convert');\n",
              "      buttonEl.style.display =\n",
              "        google.colab.kernel.accessAllowed ? 'block' : 'none';\n",
              "\n",
              "      async function convertToInteractive(key) {\n",
              "        const element = document.querySelector('#df-6b84c3e2-3787-496e-a2d6-6405f4ad8caf');\n",
              "        const dataTable =\n",
              "          await google.colab.kernel.invokeFunction('convertToInteractive',\n",
              "                                                    [key], {});\n",
              "        if (!dataTable) return;\n",
              "\n",
              "        const docLinkHtml = 'Like what you see? Visit the ' +\n",
              "          '<a target=\"_blank\" href=https://colab.research.google.com/notebooks/data_table.ipynb>data table notebook</a>'\n",
              "          + ' to learn more about interactive tables.';\n",
              "        element.innerHTML = '';\n",
              "        dataTable['output_type'] = 'display_data';\n",
              "        await google.colab.output.renderOutput(dataTable, element);\n",
              "        const docLink = document.createElement('div');\n",
              "        docLink.innerHTML = docLinkHtml;\n",
              "        element.appendChild(docLink);\n",
              "      }\n",
              "    </script>\n",
              "  </div>\n",
              "\n",
              "\n",
              "<div id=\"df-c2f1b631-f3b1-4028-973b-f19ae61e1a19\">\n",
              "  <button class=\"colab-df-quickchart\" onclick=\"quickchart('df-c2f1b631-f3b1-4028-973b-f19ae61e1a19')\"\n",
              "            title=\"Suggest charts\"\n",
              "            style=\"display:none;\">\n",
              "\n",
              "<svg xmlns=\"http://www.w3.org/2000/svg\" height=\"24px\"viewBox=\"0 0 24 24\"\n",
              "     width=\"24px\">\n",
              "    <g>\n",
              "        <path d=\"M19 3H5c-1.1 0-2 .9-2 2v14c0 1.1.9 2 2 2h14c1.1 0 2-.9 2-2V5c0-1.1-.9-2-2-2zM9 17H7v-7h2v7zm4 0h-2V7h2v10zm4 0h-2v-4h2v4z\"/>\n",
              "    </g>\n",
              "</svg>\n",
              "  </button>\n",
              "\n",
              "<style>\n",
              "  .colab-df-quickchart {\n",
              "      --bg-color: #E8F0FE;\n",
              "      --fill-color: #1967D2;\n",
              "      --hover-bg-color: #E2EBFA;\n",
              "      --hover-fill-color: #174EA6;\n",
              "      --disabled-fill-color: #AAA;\n",
              "      --disabled-bg-color: #DDD;\n",
              "  }\n",
              "\n",
              "  [theme=dark] .colab-df-quickchart {\n",
              "      --bg-color: #3B4455;\n",
              "      --fill-color: #D2E3FC;\n",
              "      --hover-bg-color: #434B5C;\n",
              "      --hover-fill-color: #FFFFFF;\n",
              "      --disabled-bg-color: #3B4455;\n",
              "      --disabled-fill-color: #666;\n",
              "  }\n",
              "\n",
              "  .colab-df-quickchart {\n",
              "    background-color: var(--bg-color);\n",
              "    border: none;\n",
              "    border-radius: 50%;\n",
              "    cursor: pointer;\n",
              "    display: none;\n",
              "    fill: var(--fill-color);\n",
              "    height: 32px;\n",
              "    padding: 0;\n",
              "    width: 32px;\n",
              "  }\n",
              "\n",
              "  .colab-df-quickchart:hover {\n",
              "    background-color: var(--hover-bg-color);\n",
              "    box-shadow: 0 1px 2px rgba(60, 64, 67, 0.3), 0 1px 3px 1px rgba(60, 64, 67, 0.15);\n",
              "    fill: var(--button-hover-fill-color);\n",
              "  }\n",
              "\n",
              "  .colab-df-quickchart-complete:disabled,\n",
              "  .colab-df-quickchart-complete:disabled:hover {\n",
              "    background-color: var(--disabled-bg-color);\n",
              "    fill: var(--disabled-fill-color);\n",
              "    box-shadow: none;\n",
              "  }\n",
              "\n",
              "  .colab-df-spinner {\n",
              "    border: 2px solid var(--fill-color);\n",
              "    border-color: transparent;\n",
              "    border-bottom-color: var(--fill-color);\n",
              "    animation:\n",
              "      spin 1s steps(1) infinite;\n",
              "  }\n",
              "\n",
              "  @keyframes spin {\n",
              "    0% {\n",
              "      border-color: transparent;\n",
              "      border-bottom-color: var(--fill-color);\n",
              "      border-left-color: var(--fill-color);\n",
              "    }\n",
              "    20% {\n",
              "      border-color: transparent;\n",
              "      border-left-color: var(--fill-color);\n",
              "      border-top-color: var(--fill-color);\n",
              "    }\n",
              "    30% {\n",
              "      border-color: transparent;\n",
              "      border-left-color: var(--fill-color);\n",
              "      border-top-color: var(--fill-color);\n",
              "      border-right-color: var(--fill-color);\n",
              "    }\n",
              "    40% {\n",
              "      border-color: transparent;\n",
              "      border-right-color: var(--fill-color);\n",
              "      border-top-color: var(--fill-color);\n",
              "    }\n",
              "    60% {\n",
              "      border-color: transparent;\n",
              "      border-right-color: var(--fill-color);\n",
              "    }\n",
              "    80% {\n",
              "      border-color: transparent;\n",
              "      border-right-color: var(--fill-color);\n",
              "      border-bottom-color: var(--fill-color);\n",
              "    }\n",
              "    90% {\n",
              "      border-color: transparent;\n",
              "      border-bottom-color: var(--fill-color);\n",
              "    }\n",
              "  }\n",
              "</style>\n",
              "\n",
              "  <script>\n",
              "    async function quickchart(key) {\n",
              "      const quickchartButtonEl =\n",
              "        document.querySelector('#' + key + ' button');\n",
              "      quickchartButtonEl.disabled = true;  // To prevent multiple clicks.\n",
              "      quickchartButtonEl.classList.add('colab-df-spinner');\n",
              "      try {\n",
              "        const charts = await google.colab.kernel.invokeFunction(\n",
              "            'suggestCharts', [key], {});\n",
              "      } catch (error) {\n",
              "        console.error('Error during call to suggestCharts:', error);\n",
              "      }\n",
              "      quickchartButtonEl.classList.remove('colab-df-spinner');\n",
              "      quickchartButtonEl.classList.add('colab-df-quickchart-complete');\n",
              "    }\n",
              "    (() => {\n",
              "      let quickchartButtonEl =\n",
              "        document.querySelector('#df-c2f1b631-f3b1-4028-973b-f19ae61e1a19 button');\n",
              "      quickchartButtonEl.style.display =\n",
              "        google.colab.kernel.accessAllowed ? 'block' : 'none';\n",
              "    })();\n",
              "  </script>\n",
              "</div>\n",
              "\n",
              "    </div>\n",
              "  </div>\n"
            ],
            "application/vnd.google.colaboratory.intrinsic+json": {
              "type": "dataframe",
              "variable_name": "Data_Docter_df",
              "summary": "{\n  \"name\": \"Data_Docter_df\",\n  \"rows\": 1653,\n  \"fields\": [\n    {\n      \"column\": \"name\",\n      \"properties\": {\n        \"dtype\": \"string\",\n        \"num_unique_values\": 1610,\n        \"samples\": [\n          \"Nook Kannika\",\n          \"\\u0e19\\u0e23\\u0e35\\u0e27\\u0e31\\u0e0a\\u0e23\\u0e4c \\u0e18\\u0e19\\u0e31\\u0e10\\u0e40\\u0e14\\u0e0a\\u0e27\\u0e31\\u0e12\\u0e19\\u0e4c\",\n          \"Jeerahdech Boonsaeng\"\n        ],\n        \"semantic_type\": \"\",\n        \"description\": \"\"\n      }\n    },\n    {\n      \"column\": \"comments\",\n      \"properties\": {\n        \"dtype\": \"string\",\n        \"num_unique_values\": 1641,\n        \"samples\": [\n          \"Supansa Srimala \\u0e01\\u0e38\\u0e15\\u0e49\\u0e2d\\u0e07\\u0e23\\u0e35\\u0e1a\\u0e44\\u0e1b\\u0e15\\u0e23\\u0e27\\u0e08\\u0e25\\u0e30\",\n          \"Camilla Thairithairika\",\n          \"Napat Pureethip\"\n        ],\n        \"semantic_type\": \"\",\n        \"description\": \"\"\n      }\n    },\n    {\n      \"column\": \"\\u0e22\\u0e2d\\u0e14\\u0e44\\u0e25\\u0e04\\u0e4c\",\n      \"properties\": {\n        \"dtype\": \"number\",\n        \"std\": 70,\n        \"min\": 0,\n        \"max\": 1600,\n        \"num_unique_values\": 65,\n        \"samples\": [\n          31,\n          10,\n          456\n        ],\n        \"semantic_type\": \"\",\n        \"description\": \"\"\n      }\n    },\n    {\n      \"column\": \"\\u0e08\\u0e33\\u0e19\\u0e27\\u0e19\\u0e01\\u0e32\\u0e23\\u0e15\\u0e2d\\u0e1a\\u0e01\\u0e25\\u0e31\\u0e1a\",\n      \"properties\": {\n        \"dtype\": \"number\",\n        \"std\": 3,\n        \"min\": 0,\n        \"max\": 70,\n        \"num_unique_values\": 27,\n        \"samples\": [\n          0,\n          6,\n          15\n        ],\n        \"semantic_type\": \"\",\n        \"description\": \"\"\n      }\n    }\n  ]\n}"
            }
          },
          "metadata": {},
          "execution_count": 8
        }
      ]
    },
    {
      "cell_type": "code",
      "source": [
        "# ตรวจสอบข้อมูลที่หายไป\n",
        "missing_data = Data_Docter_df.isnull().sum()\n",
        "print(missing_data)\n"
      ],
      "metadata": {
        "colab": {
          "base_uri": "https://localhost:8080/"
        },
        "id": "WIa93yI3b_eu",
        "outputId": "a33f5044-b8b4-4715-cd4a-af911504f908"
      },
      "execution_count": 9,
      "outputs": [
        {
          "output_type": "stream",
          "name": "stdout",
          "text": [
            "name               0\n",
            "comments           0\n",
            "ยอดไลค์            0\n",
            "จำนวนการตอบกลับ    0\n",
            "dtype: int64\n"
          ]
        }
      ]
    },
    {
      "cell_type": "code",
      "source": [
        "# ตรวจสอบว่ามีแถวใดที่ซ้ำกันหรือไม่\n",
        "duplicates = Data_Docter_df.duplicated()"
      ],
      "metadata": {
        "id": "mrcFGpamcQwQ"
      },
      "execution_count": 10,
      "outputs": []
    },
    {
      "cell_type": "code",
      "source": [
        "# ดูจำนวนข้อมูลที่ซ้ำกัน\n",
        "print(duplicates.sum())"
      ],
      "metadata": {
        "colab": {
          "base_uri": "https://localhost:8080/"
        },
        "id": "YZHn_QU0cVJ0",
        "outputId": "31322bf1-8e38-4467-e97e-2ddfc8225be9"
      },
      "execution_count": 11,
      "outputs": [
        {
          "output_type": "stream",
          "name": "stdout",
          "text": [
            "0\n"
          ]
        }
      ]
    },
    {
      "cell_type": "code",
      "source": [
        "print(Data_Docter_df.dtypes) #ดู type data_df"
      ],
      "metadata": {
        "colab": {
          "base_uri": "https://localhost:8080/"
        },
        "id": "nlgsPS7AcqSY",
        "outputId": "e4a6398b-d421-4bec-ebcb-ba696478f834"
      },
      "execution_count": 12,
      "outputs": [
        {
          "output_type": "stream",
          "name": "stdout",
          "text": [
            "name               object\n",
            "comments           object\n",
            "ยอดไลค์             int64\n",
            "จำนวนการตอบกลับ     int64\n",
            "dtype: object\n"
          ]
        }
      ]
    },
    {
      "cell_type": "code",
      "source": [
        "# คำนวณความยาวของแต่ละคอมเม้นท์\n",
        "Data_Docter_df['comment_length'] = Data_Docter_df['comments'].apply(len)\n",
        "\n",
        "# หาความยาวสูงสุด\n",
        "max_length = Data_Docter_df['comment_length'].max()\n",
        "\n",
        "# หาคอมเม้นท์ที่ยาวที่สุด\n",
        "longest_comment = Data_Docter_df[Data_Docter_df['comment_length'] == max_length]\n",
        "\n",
        "# แสดงคอมเม้นท์ที่ยาวที่สุด\n",
        "print(longest_comment['comments'].iloc[0])"
      ],
      "metadata": {
        "colab": {
          "base_uri": "https://localhost:8080/"
        },
        "id": "-PI535ChkyBE",
        "outputId": "7a0cf878-eda0-43ab-eb9e-85210c46e211"
      },
      "execution_count": 14,
      "outputs": [
        {
          "output_type": "stream",
          "name": "stdout",
          "text": [
            "ขอให้เรื่องราวของพ่อกับพี่ชายเราเป็นวิทยาทานแก่ทุกคนนะคะพ่อเราเป็นมะเร็งตับค่ะ แต่เจ้าตัวเข้าใจว่าเป็นโรคกระเพาะ อาการเหมือนโรคกระเพาะ กินแล้วจุกเสียดแน่นท้อง พ่อก็ซื้อยาลดกรดมากินเองตลอด บอกกินแล้วดีขึ้น อยู่มาวันนึงพ่อตัวเหลืองตาเหลือง กินอะไรไม่ลง ท้องบวมและแข็ง พี่ชายเลยพาไปหาหมอ หมอบอกเป็นโรคหัวใจ แต่ดูหมอไม่แน่ใจเท่าไหร่เลยเจาะเลือดไปตรวจอีกรอบ ผลออกมาว่าเป็น #มะเร็งตับระยะสุดท้าย พ่อถามว่าเขาเป็นมะเร็งใช่ไหม เราบอกไม่ใช่ แค่ตับแข็งเอง แต่เหมือนพ่อรู้ว่าใช่แน่ๆ หลังจากรู้ผลจากหมอแค่ 4 วัน พ่อก็เสียเลย เร็วแบบไม่มีเวลาทำใจเลยค่ะสาเหตุคาดว่า ตอนหนุ่มๆพ่อทั้งกินเหล้า ทั้งสูบบุหรี่จัดมาก น่าจะสะสมมานานพ่อเสียได้ 2 ปีกว่า พี่ชายก็เป็นมะเร็งตามพ่อมาติดๆเลย พี่ชายเป็นมะเร็งกระเพาะอาหาร เขาเป็นคนแข็งแรงมากไม่เคยป่วยเลย แต่อยู่ๆก็กินแล้วจุกเสียดแน่นท้อง พี่ก็คิดว่าเป็นโรคกระเพาะ ก็ซื้อยามากินเอง แต่ดูไม่ดีขึ้น แถมแย่ลง พี่ก็เข้าใจว่าเป็นกรดไหลย้อน แต่ก็แย่ลงอย่างรวดเร็ว น้ำหนักลด 13 กิโลในเดือนเดียว พี่ชายไปหาหมอ ที่แรกตรวจไม่เจอ บอกกระเพาะอักเสบรุนแรง ให้ยากลับบ้านมากิน พอกลับมาบ้านแย่ลงไปอีก กินอะไรไปก็ออกหมด แม้แต่น้ำเปล่ากินเข้าไปก็ออกทันที กินอะไรไม่ได้เลย ไปหาหมอ รพ.ที่ 2 หมอก็บอกกระเพาะเป็นแผลอีก ให้กลับบ้านอีก กลับบ้านมาก็กินอะไรไม่ได้ อาเจียนออกหมด ต้องไปหาหมอ รพ.ที่ 3 หมอตัดชิ้นเนื้อไปตรวจ CT SCAN เจอน้ำในช่องท้องจำนวนมาก ต้องเจาะระบายน้ำออก น้ำนั้นคือเชื้อมะเร็ง หมอบอกเป็น #มะเร็งกระเพาะอาหารระยะลุกลาม รวมเวลาที่หมอตรวจเจอ แค่ 3 เดือน พี่ชายก็จากไปสาเหตุอาจจะเพราะพี่ชายกินอาหารไม่ตรงเวลา บางวันกินมื้อเดียว บางวันข้าวเช้าคือกินตอนบ่าย 3 ใช้ชีวิตแบบนี้มาเป็น 10 ปีโรคนี้ไม่มีสัญญาณเตือนจริงๆ เมื่ออาการออกก็ระยะท้ายๆแล้ว ทุกวันนี้ยังทำใจให้เข้มแข็งไม่ได้เลยค่ะ มันไวมาก จากไปทั้งสองคน เป็นอะไรที่บีบหัวใจสุดๆเลย ขออย่าให้โรคนี้เกิดขึ้นกับใครอีกเลย\n"
          ]
        }
      ]
    },
    {
      "cell_type": "markdown",
      "source": [
        "ขอให้เรื่องราวของพ่อกับพี่ชายเราเป็นวิทยาทานแก่ทุกคนนะคะพ่อเราเป็นมะเร็งตับค่ะ แต่เจ้าตัวเข้าใจว่าเป็นโรคกระเพาะ อาการเหมือนโรคกระเพาะ กินแล้วจุกเสียดแน่นท้อง พ่อก็ซื้อยาลดกรดมากินเองตลอด บอกกินแล้วดีขึ้น อยู่มาวันนึงพ่อตัวเหลืองตาเหลือง กินอะไรไม่ลง ท้องบวมและแข็ง พี่ชายเลยพาไปหาหมอ หมอบอกเป็นโรคหัวใจ แต่ดูหมอไม่แน่ใจเท่าไหร่เลยเจาะเลือดไปตรวจอีกรอบ ผลออกมาว่าเป็น #มะเร็งตับระยะสุดท้าย พ่อถามว่าเขาเป็นมะเร็งใช่ไหม เราบอกไม่ใช่ แค่ตับแข็งเอง แต่เหมือนพ่อรู้ว่าใช่แน่ๆ หลังจากรู้ผลจากหมอแค่ 4 วัน พ่อก็เสียเลย เร็วแบบไม่มีเวลาทำใจเลยค่ะสาเหตุคาดว่า ตอนหนุ่มๆพ่อทั้งกินเหล้า ทั้งสูบบุหรี่จัดมาก น่าจะสะสมมานานพ่อเสียได้ 2 ปีกว่า พี่ชายก็เป็นมะเร็งตามพ่อมาติดๆเลย พี่ชายเป็นมะเร็งกระเพาะอาหาร เขาเป็นคนแข็งแรงมากไม่เคยป่วยเลย แต่อยู่ๆก็กินแล้วจุกเสียดแน่นท้อง พี่ก็คิดว่าเป็นโรคกระเพาะ ก็ซื้อยามากินเอง แต่ดูไม่ดีขึ้น แถมแย่ลง พี่ก็เข้าใจว่าเป็นกรดไหลย้อน แต่ก็แย่ลงอย่างรวดเร็ว น้ำหนักลด 13 กิโลในเดือนเดียว พี่ชายไปหาหมอ ที่แรกตรวจไม่เจอ บอกกระเพาะอักเสบรุนแรง ให้ยากลับบ้านมากิน พอกลับมาบ้านแย่ลงไปอีก กินอะไรไปก็ออกหมด แม้แต่น้ำเปล่ากินเข้าไปก็ออกทันที กินอะไรไม่ได้เลย ไปหาหมอ รพ.ที่ 2 หมอก็บอกกระเพาะเป็นแผลอีก ให้กลับบ้านอีก กลับบ้านมาก็กินอะไรไม่ได้ อาเจียนออกหมด ต้องไปหาหมอ รพ.ที่ 3 หมอตัดชิ้นเนื้อไปตรวจ CT SCAN เจอน้ำในช่องท้องจำนวนมาก ต้องเจาะระบายน้ำออก น้ำนั้นคือเชื้อมะเร็ง หมอบอกเป็น #มะเร็งกระเพาะอาหารระยะลุกลาม รวมเวลาที่หมอตรวจเจอ แค่ 3 เดือน พี่ชายก็จากไปสาเหตุอาจจะเพราะพี่ชายกินอาหารไม่ตรงเวลา บางวันกินมื้อเดียว บางวันข้าวเช้าคือกินตอนบ่าย 3 ใช้ชีวิตแบบนี้มาเป็น 10 ปีโรคนี้ไม่มีสัญญาณเตือนจริงๆ เมื่ออาการออกก็ระยะท้ายๆแล้ว ทุกวันนี้ยังทำใจให้เข้มแข็งไม่ได้เลยค่ะ มันไวมาก จากไปทั้งสองคน เป็นอะไรที่บีบหัวใจสุดๆเลย ขออย่าให้โรคนี้เกิดขึ้นกับใครอีกเลย"
      ],
      "metadata": {
        "id": "XGENq7IXlVzE"
      }
    },
    {
      "cell_type": "code",
      "source": [
        "# หาค่ามากที่สุดในยอดไลค์\n",
        "highest_likes = Data_Docter_df['ยอดไลค์'].max()\n",
        "\n",
        "# หาคอมเม้นท์ที่มียอดไลค์สูงสุด\n",
        "top_comment = Data_Docter_df[Data_Docter_df['ยอดไลค์'] == highest_likes]\n",
        "\n",
        "# แสดงคอมเม้นท์ที่มียอดไลค์สูงสุด\n",
        "print(top_comment['comments'].iloc[0])"
      ],
      "metadata": {
        "colab": {
          "base_uri": "https://localhost:8080/"
        },
        "id": "woaKTPNFlVg9",
        "outputId": "cdd22aeb-6054-43e6-c92c-3a87d05f4d91"
      },
      "execution_count": 18,
      "outputs": [
        {
          "output_type": "stream",
          "name": "stdout",
          "text": [
            "#มะเร็งปากมดลูกระยะCINlll เกือบเข้าระยะ 1 ตอนอายุ 30... ตรวจpep.ทุกปี ไม่มีอะไรผิดปกติ วันดีคืนเดือด อยู่ๆภูมิแพ้ผิวหนังขึ้นทั้งวันทั้งคืน กินยายังไงก็ไม่ลง ทั้งๆที่ก่อนหน้านั้นก็รักษาภูมิแพ้ผิวหนังจนหายแล้ว เลยนึกขึ้นได้ว่า แพทย์ผิงหนังเคยเตือนว่า หากมีอาการภูมิแพ้แบบนี้อีก ให้ตรวจอย่างอื่นที่ผิดปกติร่วมด้วย ซึ่งมันคืออาการภูมิคุ้มกันบกพร่อง(ภูมิตก)แล้วแสดงสัญญาณทางผิวหนัง .... จึงไปตรวจpep.แบบคัดเชื้อhpvร่วมด้วย เพราะเป็นคน ปจด มาไม่ปกติตั้งแต่เด็กๆ ... สรุป นางมาจริง ทั้ง 16,18 ดุสุดทั้งคู่  ณ วันที่หมออ่านผลคือ CIN ll ระยะเวลารอทำcolpo. 1เดือน ผลcolpo. ขยับไป CIN lll หมอสั่งทำ Leep ทันที เพราะระยะเดินเร็วเกินไป แต่ก็ต้องรออีก1 เดือน เนื่องด้วยว่าคุณหมอคำนวนแล้วว่า น่าจะชนกัน ปจด ซึ่งอาจทำให้แผลหายช้าลงได้ \n"
          ]
        }
      ]
    },
    {
      "cell_type": "markdown",
      "source": [
        "มะเร็งปากมดลูกระยะCINlll เกือบเข้าระยะ 1 ตอนอายุ 30... ตรวจpep.ทุกปี ไม่มีอะไรผิดปกติ วันดีคืนเดือด อยู่ๆภูมิแพ้ผิวหนังขึ้นทั้งวันทั้งคืน กินยายังไงก็ไม่ลง ทั้งๆที่ก่อนหน้านั้นก็รักษาภูมิแพ้ผิวหนังจนหายแล้ว เลยนึกขึ้นได้ว่า แพทย์ผิงหนังเคยเตือนว่า หากมีอาการภูมิแพ้แบบนี้อีก ให้ตรวจอย่างอื่นที่ผิดปกติร่วมด้วย ซึ่งมันคืออาการภูมิคุ้มกันบกพร่อง(ภูมิตก)แล้วแสดงสัญญาณทางผิวหนัง .... จึงไปตรวจpep.แบบคัดเชื้อhpvร่วมด้วย เพราะเป็นคน ปจด มาไม่ปกติตั้งแต่เด็กๆ ... สรุป นางมาจริง ทั้ง 16,18 ดุสุดทั้งคู่  ณ วันที่หมออ่านผลคือ CIN ll ระยะเวลารอทำcolpo. 1เดือน ผลcolpo. ขยับไป CIN lll หมอสั่งทำ Leep ทันที เพราะระยะเดินเร็วเกินไป แต่ก็ต้องรออีก1 เดือน เนื่องด้วยว่าคุณหมอคำนวนแล้วว่า น่าจะชนกัน ปจด ซึ่งอาจทำให้แผลหายช้าลงได้"
      ],
      "metadata": {
        "id": "vdtP7yR0mrB6"
      }
    }
  ]
}